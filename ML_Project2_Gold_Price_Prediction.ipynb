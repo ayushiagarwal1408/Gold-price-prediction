{
 "cells": [
  {
   "cell_type": "markdown",
   "id": "08da60be",
   "metadata": {},
   "source": [
    "# import the libraries"
   ]
  },
  {
   "cell_type": "code",
   "execution_count": 1,
   "id": "d48e6b68",
   "metadata": {},
   "outputs": [],
   "source": [
    "import numpy as np\n",
    "import pandas as pd\n",
    "import matplotlib.pyplot as plt\n",
    "import seaborn as sns\n",
    "from sklearn.model_selection import train_test_split\n",
    "from sklearn.ensemble import RandomForestRegressor\n",
    "from sklearn import metrics"
   ]
  },
  {
   "cell_type": "markdown",
   "id": "79294fa7",
   "metadata": {},
   "source": [
    "# Data Collection and processing"
   ]
  },
  {
   "cell_type": "code",
   "execution_count": 2,
   "id": "cda9bdaa",
   "metadata": {},
   "outputs": [],
   "source": [
    "# loading the csv data to a pandas dataframe\n",
    "gold_data=pd.read_csv(\"gld_price_data.csv\")"
   ]
  },
  {
   "cell_type": "code",
   "execution_count": 3,
   "id": "2c4435d9",
   "metadata": {},
   "outputs": [
    {
     "data": {
      "text/html": [
       "<div>\n",
       "<style scoped>\n",
       "    .dataframe tbody tr th:only-of-type {\n",
       "        vertical-align: middle;\n",
       "    }\n",
       "\n",
       "    .dataframe tbody tr th {\n",
       "        vertical-align: top;\n",
       "    }\n",
       "\n",
       "    .dataframe thead th {\n",
       "        text-align: right;\n",
       "    }\n",
       "</style>\n",
       "<table border=\"1\" class=\"dataframe\">\n",
       "  <thead>\n",
       "    <tr style=\"text-align: right;\">\n",
       "      <th></th>\n",
       "      <th>Date</th>\n",
       "      <th>SPX</th>\n",
       "      <th>GLD</th>\n",
       "      <th>USO</th>\n",
       "      <th>SLV</th>\n",
       "      <th>EUR/USD</th>\n",
       "    </tr>\n",
       "  </thead>\n",
       "  <tbody>\n",
       "    <tr>\n",
       "      <th>0</th>\n",
       "      <td>1/2/2008</td>\n",
       "      <td>1447.160034</td>\n",
       "      <td>84.860001</td>\n",
       "      <td>78.470001</td>\n",
       "      <td>15.180</td>\n",
       "      <td>1.471692</td>\n",
       "    </tr>\n",
       "    <tr>\n",
       "      <th>1</th>\n",
       "      <td>1/3/2008</td>\n",
       "      <td>1447.160034</td>\n",
       "      <td>85.570000</td>\n",
       "      <td>78.370003</td>\n",
       "      <td>15.285</td>\n",
       "      <td>1.474491</td>\n",
       "    </tr>\n",
       "    <tr>\n",
       "      <th>2</th>\n",
       "      <td>1/4/2008</td>\n",
       "      <td>1411.630005</td>\n",
       "      <td>85.129997</td>\n",
       "      <td>77.309998</td>\n",
       "      <td>15.167</td>\n",
       "      <td>1.475492</td>\n",
       "    </tr>\n",
       "    <tr>\n",
       "      <th>3</th>\n",
       "      <td>1/7/2008</td>\n",
       "      <td>1416.180054</td>\n",
       "      <td>84.769997</td>\n",
       "      <td>75.500000</td>\n",
       "      <td>15.053</td>\n",
       "      <td>1.468299</td>\n",
       "    </tr>\n",
       "    <tr>\n",
       "      <th>4</th>\n",
       "      <td>1/8/2008</td>\n",
       "      <td>1390.189941</td>\n",
       "      <td>86.779999</td>\n",
       "      <td>76.059998</td>\n",
       "      <td>15.590</td>\n",
       "      <td>1.557099</td>\n",
       "    </tr>\n",
       "  </tbody>\n",
       "</table>\n",
       "</div>"
      ],
      "text/plain": [
       "       Date          SPX        GLD        USO     SLV   EUR/USD\n",
       "0  1/2/2008  1447.160034  84.860001  78.470001  15.180  1.471692\n",
       "1  1/3/2008  1447.160034  85.570000  78.370003  15.285  1.474491\n",
       "2  1/4/2008  1411.630005  85.129997  77.309998  15.167  1.475492\n",
       "3  1/7/2008  1416.180054  84.769997  75.500000  15.053  1.468299\n",
       "4  1/8/2008  1390.189941  86.779999  76.059998  15.590  1.557099"
      ]
     },
     "execution_count": 3,
     "metadata": {},
     "output_type": "execute_result"
    }
   ],
   "source": [
    "# print first five rows in the data frame\n",
    "gold_data.head()"
   ]
  },
  {
   "cell_type": "code",
   "execution_count": 4,
   "id": "7903d43b",
   "metadata": {},
   "outputs": [
    {
     "data": {
      "text/html": [
       "<div>\n",
       "<style scoped>\n",
       "    .dataframe tbody tr th:only-of-type {\n",
       "        vertical-align: middle;\n",
       "    }\n",
       "\n",
       "    .dataframe tbody tr th {\n",
       "        vertical-align: top;\n",
       "    }\n",
       "\n",
       "    .dataframe thead th {\n",
       "        text-align: right;\n",
       "    }\n",
       "</style>\n",
       "<table border=\"1\" class=\"dataframe\">\n",
       "  <thead>\n",
       "    <tr style=\"text-align: right;\">\n",
       "      <th></th>\n",
       "      <th>Date</th>\n",
       "      <th>SPX</th>\n",
       "      <th>GLD</th>\n",
       "      <th>USO</th>\n",
       "      <th>SLV</th>\n",
       "      <th>EUR/USD</th>\n",
       "    </tr>\n",
       "  </thead>\n",
       "  <tbody>\n",
       "    <tr>\n",
       "      <th>2285</th>\n",
       "      <td>5/8/2018</td>\n",
       "      <td>2671.919922</td>\n",
       "      <td>124.589996</td>\n",
       "      <td>14.0600</td>\n",
       "      <td>15.5100</td>\n",
       "      <td>1.186789</td>\n",
       "    </tr>\n",
       "    <tr>\n",
       "      <th>2286</th>\n",
       "      <td>5/9/2018</td>\n",
       "      <td>2697.790039</td>\n",
       "      <td>124.330002</td>\n",
       "      <td>14.3700</td>\n",
       "      <td>15.5300</td>\n",
       "      <td>1.184722</td>\n",
       "    </tr>\n",
       "    <tr>\n",
       "      <th>2287</th>\n",
       "      <td>5/10/2018</td>\n",
       "      <td>2723.070068</td>\n",
       "      <td>125.180000</td>\n",
       "      <td>14.4100</td>\n",
       "      <td>15.7400</td>\n",
       "      <td>1.191753</td>\n",
       "    </tr>\n",
       "    <tr>\n",
       "      <th>2288</th>\n",
       "      <td>5/14/2018</td>\n",
       "      <td>2730.129883</td>\n",
       "      <td>124.489998</td>\n",
       "      <td>14.3800</td>\n",
       "      <td>15.5600</td>\n",
       "      <td>1.193118</td>\n",
       "    </tr>\n",
       "    <tr>\n",
       "      <th>2289</th>\n",
       "      <td>5/16/2018</td>\n",
       "      <td>2725.780029</td>\n",
       "      <td>122.543800</td>\n",
       "      <td>14.4058</td>\n",
       "      <td>15.4542</td>\n",
       "      <td>1.182033</td>\n",
       "    </tr>\n",
       "  </tbody>\n",
       "</table>\n",
       "</div>"
      ],
      "text/plain": [
       "           Date          SPX         GLD      USO      SLV   EUR/USD\n",
       "2285   5/8/2018  2671.919922  124.589996  14.0600  15.5100  1.186789\n",
       "2286   5/9/2018  2697.790039  124.330002  14.3700  15.5300  1.184722\n",
       "2287  5/10/2018  2723.070068  125.180000  14.4100  15.7400  1.191753\n",
       "2288  5/14/2018  2730.129883  124.489998  14.3800  15.5600  1.193118\n",
       "2289  5/16/2018  2725.780029  122.543800  14.4058  15.4542  1.182033"
      ]
     },
     "execution_count": 4,
     "metadata": {},
     "output_type": "execute_result"
    }
   ],
   "source": [
    "# print last 5 rows of the data frame\n",
    "gold_data.tail()"
   ]
  },
  {
   "cell_type": "code",
   "execution_count": 5,
   "id": "8895f6fe",
   "metadata": {},
   "outputs": [
    {
     "data": {
      "text/plain": [
       "(2290, 6)"
      ]
     },
     "execution_count": 5,
     "metadata": {},
     "output_type": "execute_result"
    }
   ],
   "source": [
    "# number of rows and columns\n",
    "gold_data.shape"
   ]
  },
  {
   "cell_type": "code",
   "execution_count": 6,
   "id": "1adc9353",
   "metadata": {},
   "outputs": [
    {
     "name": "stdout",
     "output_type": "stream",
     "text": [
      "<class 'pandas.core.frame.DataFrame'>\n",
      "RangeIndex: 2290 entries, 0 to 2289\n",
      "Data columns (total 6 columns):\n",
      " #   Column   Non-Null Count  Dtype  \n",
      "---  ------   --------------  -----  \n",
      " 0   Date     2290 non-null   object \n",
      " 1   SPX      2290 non-null   float64\n",
      " 2   GLD      2290 non-null   float64\n",
      " 3   USO      2290 non-null   float64\n",
      " 4   SLV      2290 non-null   float64\n",
      " 5   EUR/USD  2290 non-null   float64\n",
      "dtypes: float64(5), object(1)\n",
      "memory usage: 107.5+ KB\n"
     ]
    }
   ],
   "source": [
    "# getting some basic information about the data\n",
    "gold_data.info()"
   ]
  },
  {
   "cell_type": "code",
   "execution_count": 7,
   "id": "bc9e7437",
   "metadata": {},
   "outputs": [
    {
     "data": {
      "text/plain": [
       "Date       0\n",
       "SPX        0\n",
       "GLD        0\n",
       "USO        0\n",
       "SLV        0\n",
       "EUR/USD    0\n",
       "dtype: int64"
      ]
     },
     "execution_count": 7,
     "metadata": {},
     "output_type": "execute_result"
    }
   ],
   "source": [
    "# checking the numberv of missing values\n",
    "gold_data.isnull().sum()"
   ]
  },
  {
   "cell_type": "code",
   "execution_count": 8,
   "id": "4f9347e4",
   "metadata": {},
   "outputs": [
    {
     "data": {
      "text/html": [
       "<div>\n",
       "<style scoped>\n",
       "    .dataframe tbody tr th:only-of-type {\n",
       "        vertical-align: middle;\n",
       "    }\n",
       "\n",
       "    .dataframe tbody tr th {\n",
       "        vertical-align: top;\n",
       "    }\n",
       "\n",
       "    .dataframe thead th {\n",
       "        text-align: right;\n",
       "    }\n",
       "</style>\n",
       "<table border=\"1\" class=\"dataframe\">\n",
       "  <thead>\n",
       "    <tr style=\"text-align: right;\">\n",
       "      <th></th>\n",
       "      <th>SPX</th>\n",
       "      <th>GLD</th>\n",
       "      <th>USO</th>\n",
       "      <th>SLV</th>\n",
       "      <th>EUR/USD</th>\n",
       "    </tr>\n",
       "  </thead>\n",
       "  <tbody>\n",
       "    <tr>\n",
       "      <th>count</th>\n",
       "      <td>2290.000000</td>\n",
       "      <td>2290.000000</td>\n",
       "      <td>2290.000000</td>\n",
       "      <td>2290.000000</td>\n",
       "      <td>2290.000000</td>\n",
       "    </tr>\n",
       "    <tr>\n",
       "      <th>mean</th>\n",
       "      <td>1654.315776</td>\n",
       "      <td>122.732875</td>\n",
       "      <td>31.842221</td>\n",
       "      <td>20.084997</td>\n",
       "      <td>1.283653</td>\n",
       "    </tr>\n",
       "    <tr>\n",
       "      <th>std</th>\n",
       "      <td>519.111540</td>\n",
       "      <td>23.283346</td>\n",
       "      <td>19.523517</td>\n",
       "      <td>7.092566</td>\n",
       "      <td>0.131547</td>\n",
       "    </tr>\n",
       "    <tr>\n",
       "      <th>min</th>\n",
       "      <td>676.530029</td>\n",
       "      <td>70.000000</td>\n",
       "      <td>7.960000</td>\n",
       "      <td>8.850000</td>\n",
       "      <td>1.039047</td>\n",
       "    </tr>\n",
       "    <tr>\n",
       "      <th>25%</th>\n",
       "      <td>1239.874969</td>\n",
       "      <td>109.725000</td>\n",
       "      <td>14.380000</td>\n",
       "      <td>15.570000</td>\n",
       "      <td>1.171313</td>\n",
       "    </tr>\n",
       "    <tr>\n",
       "      <th>50%</th>\n",
       "      <td>1551.434998</td>\n",
       "      <td>120.580002</td>\n",
       "      <td>33.869999</td>\n",
       "      <td>17.268500</td>\n",
       "      <td>1.303297</td>\n",
       "    </tr>\n",
       "    <tr>\n",
       "      <th>75%</th>\n",
       "      <td>2073.010070</td>\n",
       "      <td>132.840004</td>\n",
       "      <td>37.827501</td>\n",
       "      <td>22.882500</td>\n",
       "      <td>1.369971</td>\n",
       "    </tr>\n",
       "    <tr>\n",
       "      <th>max</th>\n",
       "      <td>2872.870117</td>\n",
       "      <td>184.589996</td>\n",
       "      <td>117.480003</td>\n",
       "      <td>47.259998</td>\n",
       "      <td>1.598798</td>\n",
       "    </tr>\n",
       "  </tbody>\n",
       "</table>\n",
       "</div>"
      ],
      "text/plain": [
       "               SPX          GLD          USO          SLV      EUR/USD\n",
       "count  2290.000000  2290.000000  2290.000000  2290.000000  2290.000000\n",
       "mean   1654.315776   122.732875    31.842221    20.084997     1.283653\n",
       "std     519.111540    23.283346    19.523517     7.092566     0.131547\n",
       "min     676.530029    70.000000     7.960000     8.850000     1.039047\n",
       "25%    1239.874969   109.725000    14.380000    15.570000     1.171313\n",
       "50%    1551.434998   120.580002    33.869999    17.268500     1.303297\n",
       "75%    2073.010070   132.840004    37.827501    22.882500     1.369971\n",
       "max    2872.870117   184.589996   117.480003    47.259998     1.598798"
      ]
     },
     "execution_count": 8,
     "metadata": {},
     "output_type": "execute_result"
    }
   ],
   "source": [
    "# getting the statistical measures of the data\n",
    "gold_data.describe()"
   ]
  },
  {
   "cell_type": "raw",
   "id": "55f8b48d",
   "metadata": {},
   "source": [
    "# finding correlation between various columns in dataset\n",
    "Correlation:\n",
    "1. Positive Correlation : \n",
    " one variable increases as other increases..directly proportional\n",
    "2. Negative Correlation :\n",
    "inversely proportional"
   ]
  },
  {
   "cell_type": "code",
   "execution_count": 9,
   "id": "63c7d399",
   "metadata": {},
   "outputs": [],
   "source": [
    "correlation=gold_data.corr()"
   ]
  },
  {
   "cell_type": "code",
   "execution_count": 10,
   "id": "7bbcac36",
   "metadata": {},
   "outputs": [
    {
     "data": {
      "text/plain": [
       "<AxesSubplot:>"
      ]
     },
     "execution_count": 10,
     "metadata": {},
     "output_type": "execute_result"
    },
    {
     "data": {
      "image/png": "[encoded data removed]",
      "text/plain": [
       "<Figure size 576x576 with 2 Axes>"
      ]
     },
     "metadata": {
      "needs_background": "light"
     },
     "output_type": "display_data"
    }
   ],
   "source": [
    "# constructing a heatmap to understand the correlation\n",
    "plt.figure(figsize=(8,8))\n",
    "sns.heatmap(correlation, cbar=True, square=True,fmt='.1f', annot=True, \n",
    "            annot_kws={\"size\":8}, cmap=\"Blues\")\n",
    "\n",
    "# cbar is colourbar on right side\n",
    "# square format\n",
    "# fmt .1f indicates the number of decimal points\n",
    "# annotations are the name of columns\n",
    "# annotation size\n",
    "# cmap is colour map"
   ]
  },
  {
   "cell_type": "markdown",
   "id": "7056ee58",
   "metadata": {},
   "source": [
    "We find that silver is directly correlated with gold price and USO is slightly negatively correlated"
   ]
  },
  {
   "cell_type": "code",
   "execution_count": 11,
   "id": "5b338b47",
   "metadata": {},
   "outputs": [
    {
     "name": "stdout",
     "output_type": "stream",
     "text": [
      "SPX        0.049345\n",
      "GLD        1.000000\n",
      "USO       -0.186360\n",
      "SLV        0.866632\n",
      "EUR/USD   -0.024375\n",
      "Name: GLD, dtype: float64\n"
     ]
    }
   ],
   "source": [
    "# correlation values of GLD\n",
    "print(correlation[\"GLD\"])"
   ]
  },
  {
   "cell_type": "code",
   "execution_count": 12,
   "id": "aa2b8491",
   "metadata": {},
   "outputs": [
    {
     "name": "stderr",
     "output_type": "stream",
     "text": [
      "C:\\Users\\Yash Agarwal\\anaconda3\\lib\\site-packages\\seaborn\\distributions.py:2619: FutureWarning: `distplot` is a deprecated function and will be removed in a future version. Please adapt your code to use either `displot` (a figure-level function with similar flexibility) or `histplot` (an axes-level function for histograms).\n",
      "  warnings.warn(msg, FutureWarning)\n"
     ]
    },
    {
     "data": {
      "text/plain": [
       "<AxesSubplot:xlabel='GLD', ylabel='Density'>"
      ]
     },
     "execution_count": 12,
     "metadata": {},
     "output_type": "execute_result"
    },
    {
     "data": {
      "image/png": "[encoded data removed]",
      "text/plain": [
       "<Figure size 432x288 with 1 Axes>"
      ]
     },
     "metadata": {
      "needs_background": "light"
     },
     "output_type": "display_data"
    }
   ],
   "source": [
    "# checking the distribution of gold price \n",
    "sns.distplot(gold_data[\"GLD\"], color=\"green\")"
   ]
  },
  {
   "cell_type": "raw",
   "id": "7a820fa8",
   "metadata": {},
   "source": [
    "Majority of the gold price is in range 120 as inferred from above dist plot"
   ]
  },
  {
   "cell_type": "raw",
   "id": "cd01e52e",
   "metadata": {},
   "source": [
    "# we need to remove this date column from our data set and \n",
    "# we need to separate the GLD column as it is our label\n"
   ]
  },
  {
   "cell_type": "markdown",
   "id": "72a8e090",
   "metadata": {},
   "source": [
    "# Splitting the Features and Target"
   ]
  },
  {
   "cell_type": "code",
   "execution_count": 13,
   "id": "32a94d10",
   "metadata": {},
   "outputs": [],
   "source": [
    "x=gold_data.drop([\"Date\",\"GLD\"], axis=1)\n",
    "# whenever you are dropping a column you need to mention axis=1\n",
    "# whenever you are dropping a row you need to mention axis=0"
   ]
  },
  {
   "cell_type": "code",
   "execution_count": 14,
   "id": "133a2a66",
   "metadata": {},
   "outputs": [],
   "source": [
    "y=gold_data[\"GLD\"]"
   ]
  },
  {
   "cell_type": "code",
   "execution_count": 15,
   "id": "a692457c",
   "metadata": {},
   "outputs": [
    {
     "name": "stdout",
     "output_type": "stream",
     "text": [
      "              SPX        USO      SLV   EUR/USD\n",
      "0     1447.160034  78.470001  15.1800  1.471692\n",
      "1     1447.160034  78.370003  15.2850  1.474491\n",
      "2     1411.630005  77.309998  15.1670  1.475492\n",
      "3     1416.180054  75.500000  15.0530  1.468299\n",
      "4     1390.189941  76.059998  15.5900  1.557099\n",
      "...           ...        ...      ...       ...\n",
      "2285  2671.919922  14.060000  15.5100  1.186789\n",
      "2286  2697.790039  14.370000  15.5300  1.184722\n",
      "2287  2723.070068  14.410000  15.7400  1.191753\n",
      "2288  2730.129883  14.380000  15.5600  1.193118\n",
      "2289  2725.780029  14.405800  15.4542  1.182033\n",
      "\n",
      "[2290 rows x 4 columns]\n"
     ]
    }
   ],
   "source": [
    "print(x)"
   ]
  },
  {
   "cell_type": "code",
   "execution_count": 16,
   "id": "9b394829",
   "metadata": {},
   "outputs": [
    {
     "name": "stdout",
     "output_type": "stream",
     "text": [
      "0        84.860001\n",
      "1        85.570000\n",
      "2        85.129997\n",
      "3        84.769997\n",
      "4        86.779999\n",
      "           ...    \n",
      "2285    124.589996\n",
      "2286    124.330002\n",
      "2287    125.180000\n",
      "2288    124.489998\n",
      "2289    122.543800\n",
      "Name: GLD, Length: 2290, dtype: float64\n"
     ]
    }
   ],
   "source": [
    "print(y)"
   ]
  },
  {
   "cell_type": "markdown",
   "id": "4b0bceeb",
   "metadata": {},
   "source": [
    "# splitting into Training and Test Data"
   ]
  },
  {
   "cell_type": "code",
   "execution_count": 17,
   "id": "d4995a5b",
   "metadata": {},
   "outputs": [],
   "source": [
    "x_train, x_test, y_train, y_test=train_test_split(x,y,test_size=0.2,random_state=2)"
   ]
  },
  {
   "cell_type": "raw",
   "id": "4feb46b5",
   "metadata": {},
   "source": [
    "Model Training using Random Forest Regressor"
   ]
  },
  {
   "cell_type": "code",
   "execution_count": 18,
   "id": "14aef5ff",
   "metadata": {},
   "outputs": [],
   "source": [
    "regressor=RandomForestRegressor(n_estimators=100)"
   ]
  },
  {
   "cell_type": "code",
   "execution_count": 19,
   "id": "9aa68caf",
   "metadata": {},
   "outputs": [
    {
     "data": {
      "text/plain": [
       "RandomForestRegressor()"
      ]
     },
     "execution_count": 19,
     "metadata": {},
     "output_type": "execute_result"
    }
   ],
   "source": [
    "# training the model\n",
    "regressor.fit(x_train, y_train)"
   ]
  },
  {
   "cell_type": "raw",
   "id": "9a675d07",
   "metadata": {},
   "source": [
    "Model Evaluation"
   ]
  },
  {
   "cell_type": "code",
   "execution_count": 20,
   "id": "800bcb06",
   "metadata": {},
   "outputs": [],
   "source": [
    "# prediction on test day\n",
    "y_pred=regressor.predict(x_test)"
   ]
  },
  {
   "cell_type": "code",
   "execution_count": 21,
   "id": "911c531d",
   "metadata": {},
   "outputs": [
    {
     "name": "stdout",
     "output_type": "stream",
     "text": [
      "[168.61949953  81.97070004 116.07160041 127.75690063 120.73050125\n",
      " 154.94679744 150.26129851 126.03750083 117.54809876 125.92240097\n",
      " 116.77940093 170.92190078 141.86979907 167.89209823 115.23509987\n",
      " 117.64430019 139.63600263 169.86040019 159.69460363 156.43019916\n",
      " 155.06360007 125.32070026 175.91739985 157.45370347 125.20500036\n",
      "  93.65880013  77.13590021 120.44240022 119.01929907 167.51139926\n",
      "  88.37140068 125.25809963  91.06400086 117.62780026 121.22929938\n",
      " 136.34520153 115.52260106 115.26830047 147.02699984 107.36070085\n",
      " 104.53670263  87.11729776 126.53420021 118.27730042 152.46809863\n",
      " 119.55949979 108.42599997 108.1625979   93.21060075 127.18839748\n",
      "  75.11090016 113.63379899 121.62000009 110.98209945 118.94729884\n",
      " 120.91689926 158.87140097 166.84120144 146.9529968   85.89059875\n",
      "  94.23850059  86.82579903  90.61240013 119.00730071 126.43820068\n",
      " 127.50300038 168.81760046 122.28919928 117.34909876  98.81820045\n",
      " 168.5078011  143.36799795 132.76310286 121.38280213 120.87709933\n",
      " 119.6632004  114.79240119 118.37840053 107.32090101 127.86220041\n",
      " 113.72679973 107.63990006 116.91970051 119.6204986   89.05520043\n",
      "  88.17639863 146.70710205 127.05139982 113.35269997 110.19929838\n",
      " 108.24519888  77.04629885 168.98820173 113.97909908 121.80609907\n",
      " 128.2307021  155.05919874  91.84939964 136.78260084 159.16750314\n",
      " 125.96000025 124.9728006  130.81420237 115.04060102 119.87300018\n",
      "  92.23549979 110.309299   166.60709944 157.82739899 114.17789944\n",
      " 106.67050102  79.66099954 113.21700032 125.76560054 107.29849883\n",
      " 119.21610052 156.47870329 159.59409952 119.90840015 135.15670268\n",
      " 101.35360004 117.3392978  119.10060004 112.86600049 102.76009926\n",
      " 159.87109836  99.12020011 148.92909929 125.64320108 170.22249882\n",
      " 125.85609877 127.47949697 127.49620182 113.70909932 112.89550087\n",
      " 123.56949903 102.35919941  89.32759985 124.43479973 101.8085994\n",
      " 107.02339888 113.52900095 117.25860066  99.69449972 121.81420028\n",
      " 162.66659854  87.3764984  106.78989974 117.07250111 127.64940136\n",
      " 124.19200084  80.67309887 120.14240073 157.58939839  87.81869969\n",
      " 110.18739966 118.83769908 171.42729851 102.99609889 105.83330047\n",
      " 122.83510035 157.81189772  87.39489853  93.22320033 112.43290029\n",
      " 177.20599966 114.24339973 119.07070016  94.923401   125.82570028\n",
      " 166.00930078 114.81870024 116.67300149  88.28569867 148.80450101\n",
      " 120.47879957  89.60069991 111.5074001  117.33510043 118.64360129\n",
      "  88.0404995   94.15910011 117.20379981 118.4404021  120.31250064\n",
      " 126.84319807 121.87830022 150.32849958 164.89350068 118.74069978\n",
      " 120.44360127 149.91150025 118.75539894 171.98749839 105.37779919\n",
      " 105.01280096 149.77500091 113.93880089 124.73000119 148.19929949\n",
      " 119.67040125 115.2479006  112.70829987 113.30210208 142.31700174\n",
      " 117.73429783 102.91490056 115.98210138 103.74300161  99.15090038\n",
      " 117.46390048  90.66770055  91.67000053 153.60809868 102.66459978\n",
      " 154.86260107 114.26180137 138.57660098  90.23709829 115.50799952\n",
      " 114.86009949 123.10160044 121.76860033 165.24950145  92.9614994\n",
      " 135.90140185 121.43989951 120.73700076 104.63160003 140.97970342\n",
      " 121.51149929 116.55930063 113.60570084 127.22659735 122.68749931\n",
      " 125.70789914 121.36300043  86.80899907 132.55370128 145.0196017\n",
      "  92.73519963 158.75799996 159.5273026  126.07199948 164.53019896\n",
      " 108.79269967 110.07480048 103.72749849  94.34050057 128.05420316\n",
      " 107.01790049 162.42850015 121.71850018 131.84180032 130.58550195\n",
      " 160.38760065  90.29909889 176.02050177 127.87630029 126.90169825\n",
      "  86.39749937 124.49469958 150.22789739  89.70950011 107.02939958\n",
      " 108.93759992  84.30329917 136.20679911 155.03110288 139.0043035\n",
      "  73.82740016 152.16500065 126.25320001 126.67600001 127.52819879\n",
      " 108.50229939 156.54479989 114.73410082 116.95520148 125.27739935\n",
      " 154.01120151 121.46099977 156.28299972  92.94850056 125.44570125\n",
      " 125.79410031  87.65080026  92.11509929 126.31699937 128.19170317\n",
      " 113.13760059 117.38799726 120.84730033 127.25399783 119.7128011\n",
      " 136.31140127  93.97099963 119.69870048 113.34180119  94.35819958\n",
      " 109.0090998   87.95219917 109.24749952  89.59919981  92.56859992\n",
      " 131.42810303 162.2224011   89.36090024 119.66210055 133.47290179\n",
      " 124.02230037 128.38940185 102.11329864  88.99059885 131.94280079\n",
      " 119.97289997 109.32469978 169.40480062 115.48750067  86.59779905\n",
      " 118.82580071  91.12519959 161.29630071 116.42800052 121.62240015\n",
      " 160.35449838 120.04699924 112.61299951 108.41019859 126.71049958\n",
      "  76.23749992 102.88779981 127.93450298 121.81839918  92.6113004\n",
      " 131.92300003 118.06540134 115.97779974 154.4177027  160.19440062\n",
      " 110.00219997 151.79819757 119.20660114 160.56820148 118.6240001\n",
      " 157.4920992  115.21199899 116.35670006 148.56949963 115.01680039\n",
      " 125.80159885 165.89519959 117.63669999 124.93669946 153.21000386\n",
      " 153.69840251 132.17440011 114.78750012 121.38470171 125.07440057\n",
      "  89.79580036 123.33400001 154.64030214 111.66900036 106.80520006\n",
      " 161.64280079 118.58819979 165.69110012 134.03850089 114.68879947\n",
      " 153.00179931 168.60579894 115.38700006 113.94090099 157.91109854\n",
      "  85.184199   127.14500065 127.98320056 128.85959993 124.26160062\n",
      " 123.83890068  90.67160037 153.1892996   97.19929966 138.34289997\n",
      "  89.29819916 107.61710014 115.10750058 112.49550073 123.96769915\n",
      "  91.47619868 125.4438015  162.39739988 119.71639924 164.98760156\n",
      " 126.95909778 112.31580002 127.5614994   94.600499    91.08249969\n",
      " 103.19289899 120.93740008  83.17839946 126.29030028 160.45900447\n",
      " 117.34570092 118.16939977 120.04859992 122.68709966 120.12280121\n",
      " 121.55339987 117.97750078 107.29539976 148.30430049 126.393398\n",
      " 115.96740097  73.68629989 127.7777011  154.15490074 122.84680007\n",
      " 125.6320007   88.82770007 103.61779864 124.59820029 120.28650041\n",
      "  73.46370071 151.69880051 121.35880046 104.80519996  86.37639783\n",
      " 115.26079901 172.16279869 119.73630048 159.78789794 113.2332996\n",
      " 120.8683998  118.40300124  96.00879984 118.55070026 125.97350074\n",
      " 118.61049959  95.67440045 153.82410221 122.12859999 147.29640008\n",
      " 159.51110204 113.70770046 122.52809955 148.97199789 127.38910037\n",
      " 166.05880036 134.65390012 120.03890002 167.01949893 108.57179937\n",
      " 121.89769828 139.6678014  107.14709862]\n"
     ]
    }
   ],
   "source": [
    "print(y_pred)"
   ]
  },
  {
   "cell_type": "code",
   "execution_count": 22,
   "id": "c6d847e8",
   "metadata": {},
   "outputs": [],
   "source": [
    "# R squared error\n",
    "error_score = metrics.r2_score(y_test,y_pred)"
   ]
  },
  {
   "cell_type": "code",
   "execution_count": 23,
   "id": "fcbc0d67",
   "metadata": {},
   "outputs": [
    {
     "name": "stdout",
     "output_type": "stream",
     "text": [
      "R squared error: 0.9893722295162386\n"
     ]
    }
   ],
   "source": [
    "print(\"R squared error:\", error_score)"
   ]
  },
  {
   "cell_type": "code",
   "execution_count": 24,
   "id": "2bc7ec27",
   "metadata": {},
   "outputs": [],
   "source": [
    "#MSE\n",
    "mse=metrics.mean_squared_error(y_test,y_pred)"
   ]
  },
  {
   "cell_type": "code",
   "execution_count": 25,
   "id": "c964befd",
   "metadata": {},
   "outputs": [
    {
     "name": "stdout",
     "output_type": "stream",
     "text": [
      "mean squared error: 5.605548468098095\n"
     ]
    }
   ],
   "source": [
    "print(\"mean squared error:\", mse)"
   ]
  },
  {
   "cell_type": "markdown",
   "id": "f2ce7c29",
   "metadata": {},
   "source": [
    "# compare the actual values and predicted values in a plot\n"
   ]
  },
  {
   "cell_type": "code",
   "execution_count": 26,
   "id": "af64e2ba",
   "metadata": {},
   "outputs": [],
   "source": [
    "y_test=list(y_test)"
   ]
  },
  {
   "cell_type": "code",
   "execution_count": 27,
   "id": "31a38994",
   "metadata": {},
   "outputs": [
    {
     "data": {
      "image/png": "[encoded data removed]",
      "text/plain": [
       "<Figure size 432x288 with 1 Axes>"
      ]
     },
     "metadata": {
      "needs_background": "light"
     },
     "output_type": "display_data"
    }
   ],
   "source": [
    "plt.plot(y_test, color=\"blue\", label=\"Actual Value\")\n",
    "plt.plot(y_pred, color=\"red\", label=\"Predicted Value\")\n",
    "plt.title(\"Actual Price vs Predicted Price\")\n",
    "plt.xlabel(\"No of Values\")\n",
    "plt.ylabel(\"Gold price\")\n",
    "plt.legend()\n",
    "plt.show()"
   ]
  },
  {
   "cell_type": "code",
   "execution_count": null,
   "id": "fd67d864",
   "metadata": {},
   "outputs": [],
   "source": []
  },
  {
   "cell_type": "code",
   "execution_count": null,
   "id": "45aecf94",
   "metadata": {},
   "outputs": [],
   "source": []
  },
  {
   "cell_type": "code",
   "execution_count": null,
   "id": "d8df5675",
   "metadata": {},
   "outputs": [],
   "source": []
  },
  {
   "cell_type": "code",
   "execution_count": null,
   "id": "338be220",
   "metadata": {},
   "outputs": [],
   "source": []
  },
  {
   "cell_type": "code",
   "execution_count": null,
   "id": "b8289723",
   "metadata": {},
   "outputs": [],
   "source": []
  },
  {
   "cell_type": "code",
   "execution_count": null,
   "id": "80217496",
   "metadata": {},
   "outputs": [],
   "source": []
  },
  {
   "cell_type": "code",
   "execution_count": null,
   "id": "765d9151",
   "metadata": {},
   "outputs": [],
   "source": []
  },
  {
   "cell_type": "code",
   "execution_count": null,
   "id": "3cb6a0d9",
   "metadata": {},
   "outputs": [],
   "source": []
  },
  {
   "cell_type": "code",
   "execution_count": null,
   "id": "82004395",
   "metadata": {},
   "outputs": [],
   "source": []
  },
  {
   "cell_type": "code",
   "execution_count": null,
   "id": "00d516b3",
   "metadata": {},
   "outputs": [],
   "source": []
  },
  {
   "cell_type": "code",
   "execution_count": null,
   "id": "122a0d25",
   "metadata": {},
   "outputs": [],
   "source": []
  },
  {
   "cell_type": "code",
   "execution_count": null,
   "id": "558fdfcd",
   "metadata": {},
   "outputs": [],
   "source": []
  },
  {
   "cell_type": "code",
   "execution_count": null,
   "id": "e5e70966",
   "metadata": {},
   "outputs": [],
   "source": []
  },
  {
   "cell_type": "code",
   "execution_count": null,
   "id": "4c23dc2d",
   "metadata": {},
   "outputs": [],
   "source": []
  },
  {
   "cell_type": "code",
   "execution_count": null,
   "id": "c793ff81",
   "metadata": {},
   "outputs": [],
   "source": []
  },
  {
   "cell_type": "code",
   "execution_count": null,
   "id": "54705814",
   "metadata": {},
   "outputs": [],
   "source": []
  },
  {
   "cell_type": "code",
   "execution_count": null,
   "id": "e9a5a292",
   "metadata": {},
   "outputs": [],
   "source": []
  },
  {
   "cell_type": "code",
   "execution_count": null,
   "id": "23983d78",
   "metadata": {},
   "outputs": [],
   "source": []
  },
  {
   "cell_type": "code",
   "execution_count": null,
   "id": "7555f400",
   "metadata": {},
   "outputs": [],
   "source": []
  },
  {
   "cell_type": "code",
   "execution_count": null,
   "id": "e0572281",
   "metadata": {},
   "outputs": [],
   "source": []
  },
  {
   "cell_type": "code",
   "execution_count": null,
   "id": "064ed046",
   "metadata": {},
   "outputs": [],
   "source": []
  },
  {
   "cell_type": "code",
   "execution_count": null,
   "id": "190e7927",
   "metadata": {},
   "outputs": [],
   "source": []
  },
  {
   "cell_type": "code",
   "execution_count": null,
   "id": "d7305deb",
   "metadata": {},
   "outputs": [],
   "source": []
  },
  {
   "cell_type": "code",
   "execution_count": null,
   "id": "3477aa09",
   "metadata": {},
   "outputs": [],
   "source": []
  },
  {
   "cell_type": "code",
   "execution_count": null,
   "id": "27e13a42",
   "metadata": {},
   "outputs": [],
   "source": []
  },
  {
   "cell_type": "code",
   "execution_count": null,
   "id": "9714a034",
   "metadata": {},
   "outputs": [],
   "source": []
  },
  {
   "cell_type": "code",
   "execution_count": null,
   "id": "53a5fa9c",
   "metadata": {},
   "outputs": [],
   "source": []
  },
  {
   "cell_type": "code",
   "execution_count": null,
   "id": "18a676c7",
   "metadata": {},
   "outputs": [],
   "source": []
  },
  {
   "cell_type": "code",
   "execution_count": null,
   "id": "797882c5",
   "metadata": {},
   "outputs": [],
   "source": []
  },
  {
   "cell_type": "code",
   "execution_count": null,
   "id": "2b67e5ad",
   "metadata": {},
   "outputs": [],
   "source": []
  },
  {
   "cell_type": "code",
   "execution_count": null,
   "id": "9d2217ed",
   "metadata": {},
   "outputs": [],
   "source": []
  },
  {
   "cell_type": "code",
   "execution_count": null,
   "id": "0aede0f9",
   "metadata": {},
   "outputs": [],
   "source": []
  },
  {
   "cell_type": "code",
   "execution_count": null,
   "id": "e6547138",
   "metadata": {},
   "outputs": [],
   "source": []
  },
  {
   "cell_type": "code",
   "execution_count": null,
   "id": "8b77e2cf",
   "metadata": {},
   "outputs": [],
   "source": []
  },
  {
   "cell_type": "code",
   "execution_count": null,
   "id": "cbbba9c4",
   "metadata": {},
   "outputs": [],
   "source": []
  },
  {
   "cell_type": "code",
   "execution_count": null,
   "id": "fa4158ca",
   "metadata": {},
   "outputs": [],
   "source": []
  },
  {
   "cell_type": "code",
   "execution_count": null,
   "id": "6024dbce",
   "metadata": {},
   "outputs": [],
   "source": []
  },
  {
   "cell_type": "code",
   "execution_count": null,
   "id": "38465dea",
   "metadata": {},
   "outputs": [],
   "source": []
  },
  {
   "cell_type": "code",
   "execution_count": null,
   "id": "82ac2df5",
   "metadata": {},
   "outputs": [],
   "source": []
  },
  {
   "cell_type": "code",
   "execution_count": null,
   "id": "a97599ba",
   "metadata": {},
   "outputs": [],
   "source": []
  },
  {
   "cell_type": "code",
   "execution_count": null,
   "id": "a2d81887",
   "metadata": {},
   "outputs": [],
   "source": []
  },
  {
   "cell_type": "code",
   "execution_count": null,
   "id": "cb41dfc9",
   "metadata": {},
   "outputs": [],
   "source": []
  },
  {
   "cell_type": "code",
   "execution_count": null,
   "id": "49d9f651",
   "metadata": {},
   "outputs": [],
   "source": []
  },
  {
   "cell_type": "code",
   "execution_count": null,
   "id": "ba9b6663",
   "metadata": {},
   "outputs": [],
   "source": []
  },
  {
   "cell_type": "code",
   "execution_count": null,
   "id": "8978486c",
   "metadata": {},
   "outputs": [],
   "source": []
  },
  {
   "cell_type": "code",
   "execution_count": null,
   "id": "06d333f5",
   "metadata": {},
   "outputs": [],
   "source": []
  },
  {
   "cell_type": "code",
   "execution_count": null,
   "id": "1c131bae",
   "metadata": {},
   "outputs": [],
   "source": []
  },
  {
   "cell_type": "code",
   "execution_count": null,
   "id": "85ac52eb",
   "metadata": {},
   "outputs": [],
   "source": []
  },
  {
   "cell_type": "code",
   "execution_count": null,
   "id": "5a206361",
   "metadata": {},
   "outputs": [],
   "source": []
  },
  {
   "cell_type": "code",
   "execution_count": null,
   "id": "1f72c9f1",
   "metadata": {},
   "outputs": [],
   "source": []
  },
  {
   "cell_type": "code",
   "execution_count": null,
   "id": "fb6ce48f",
   "metadata": {},
   "outputs": [],
   "source": []
  }
 ],
 "metadata": {
  "kernelspec": {
   "display_name": "Python 3 (ipykernel)",
   "language": "python",
   "name": "python3"
  },
  "language_info": {
   "codemirror_mode": {
    "name": "ipython",
    "version": 3
   },
   "file_extension": ".py",
   "mimetype": "text/x-python",
   "name": "python",
   "nbconvert_exporter": "python",
   "pygments_lexer": "ipython3",
   "version": "3.9.12"
  }
 },
 "nbformat": 4,
 "nbformat_minor": 5
}
